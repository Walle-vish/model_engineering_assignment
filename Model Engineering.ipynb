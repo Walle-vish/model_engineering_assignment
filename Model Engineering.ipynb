{
 "cells": [
  {
   "cell_type": "markdown",
   "id": "d02c4d2b",
   "metadata": {},
   "source": [
    "# Credit Card Routing for Online Purchase via Predictive Modelling"
   ]
  },
  {
   "cell_type": "markdown",
   "id": "3376b75a",
   "metadata": {},
   "source": [
    "Importing basic libraries"
   ]
  },
  {
   "cell_type": "code",
   "execution_count": 406,
   "id": "776c66f4",
   "metadata": {},
   "outputs": [],
   "source": [
    "import numpy as np\n",
    "import pandas as pd\n",
    "from datetime import datetime\n",
    "from datetime import timedelta\n",
    "import seaborn as sns\n",
    "import matplotlib.pyplot as plt"
   ]
  },
  {
   "cell_type": "markdown",
   "id": "97c6a12a",
   "metadata": {},
   "source": [
    "Reading the raw data"
   ]
  },
  {
   "cell_type": "code",
   "execution_count": 410,
   "id": "7f8ce492",
   "metadata": {},
   "outputs": [],
   "source": [
    "df = pd.read_excel(r\"PSP_Jan_Feb_2019.xlsx\")"
   ]
  },
  {
   "cell_type": "markdown",
   "id": "13e0efe4",
   "metadata": {},
   "source": [
    "Checking the datatypes of the columns and making sure that it matches our expectation"
   ]
  },
  {
   "cell_type": "code",
   "execution_count": 411,
   "id": "82005e68",
   "metadata": {
    "scrolled": true
   },
   "outputs": [
    {
     "data": {
      "text/plain": [
       "Unnamed: 0             int64\n",
       "tmsp          datetime64[ns]\n",
       "country               object\n",
       "amount                 int64\n",
       "success                int64\n",
       "PSP                   object\n",
       "3D_secured             int64\n",
       "card                  object\n",
       "dtype: object"
      ]
     },
     "execution_count": 411,
     "metadata": {},
     "output_type": "execute_result"
    }
   ],
   "source": [
    "df.dtypes"
   ]
  },
  {
   "cell_type": "markdown",
   "id": "7d9e055a",
   "metadata": {},
   "source": [
    "Checking if there is any null cells"
   ]
  },
  {
   "cell_type": "code",
   "execution_count": 413,
   "id": "6149a62e",
   "metadata": {},
   "outputs": [
    {
     "data": {
      "text/plain": [
       "Unnamed: 0    0\n",
       "tmsp          0\n",
       "country       0\n",
       "amount        0\n",
       "success       0\n",
       "PSP           0\n",
       "3D_secured    0\n",
       "card          0\n",
       "dtype: int64"
      ]
     },
     "execution_count": 413,
     "metadata": {},
     "output_type": "execute_result"
    }
   ],
   "source": [
    "df.isna().sum()"
   ]
  },
  {
   "cell_type": "markdown",
   "id": "ec5b73b9",
   "metadata": {},
   "source": [
    "Checking if there is any logical errors like having any illogical values in specific columns"
   ]
  },
  {
   "cell_type": "code",
   "execution_count": 414,
   "id": "92682b9d",
   "metadata": {},
   "outputs": [
    {
     "data": {
      "text/plain": [
       "Unnamed: 0    0.0\n",
       "country       0.0\n",
       "amount        0.0\n",
       "success       0.0\n",
       "PSP           0.0\n",
       "3D_secured    0.0\n",
       "card          0.0\n",
       "dtype: float64"
      ]
     },
     "execution_count": 414,
     "metadata": {},
     "output_type": "execute_result"
    }
   ],
   "source": [
    "df[df['3D_secured']>=2].sum()"
   ]
  },
  {
   "cell_type": "code",
   "execution_count": 415,
   "id": "5f344e87",
   "metadata": {},
   "outputs": [],
   "source": [
    "df[\"Attempt\"] = 1"
   ]
  },
  {
   "cell_type": "code",
   "execution_count": 416,
   "id": "097eab0b",
   "metadata": {},
   "outputs": [
    {
     "data": {
      "image/png": "[encoded data removed]",
      "text/plain": [
       "<Figure size 360x360 with 1 Axes>"
      ]
     },
     "metadata": {},
     "output_type": "display_data"
    }
   ],
   "source": [
    "piv = pd.pivot_table(df, values='tmsp', index=['country'], aggfunc='count')\n",
    "piv\n",
    "\n",
    "plot = piv.plot.pie(y='tmsp', figsize=(5, 5))"
   ]
  },
  {
   "cell_type": "markdown",
   "id": "fdfaece0",
   "metadata": {},
   "source": [
    "Calculating the attempt number for each try"
   ]
  },
  {
   "cell_type": "code",
   "execution_count": 417,
   "id": "26fcd15c",
   "metadata": {},
   "outputs": [],
   "source": [
    "for index, row in df.iterrows():    \n",
    "    if ((row['tmsp'] >= (df.iat[index-1,1]- timedelta(minutes=1)))&(row['country'] == df.iat[index-1,2])&(row['amount'] == df.iat[index-1,3])):\n",
    "        df.iat[index,8] = df.iat[index-1,8]+1\n"
   ]
  },
  {
   "cell_type": "markdown",
   "id": "f7482cf1",
   "metadata": {},
   "source": [
    "After adding it our raw data would look like shown in below block"
   ]
  },
  {
   "cell_type": "code",
   "execution_count": 418,
   "id": "b817a3c8",
   "metadata": {},
   "outputs": [
    {
     "data": {
      "text/html": [
       "<div>\n",
       "<style scoped>\n",
       "    .dataframe tbody tr th:only-of-type {\n",
       "        vertical-align: middle;\n",
       "    }\n",
       "\n",
       "    .dataframe tbody tr th {\n",
       "        vertical-align: top;\n",
       "    }\n",
       "\n",
       "    .dataframe thead th {\n",
       "        text-align: right;\n",
       "    }\n",
       "</style>\n",
       "<table border=\"1\" class=\"dataframe\">\n",
       "  <thead>\n",
       "    <tr style=\"text-align: right;\">\n",
       "      <th></th>\n",
       "      <th>Unnamed: 0</th>\n",
       "      <th>tmsp</th>\n",
       "      <th>country</th>\n",
       "      <th>amount</th>\n",
       "      <th>success</th>\n",
       "      <th>PSP</th>\n",
       "      <th>3D_secured</th>\n",
       "      <th>card</th>\n",
       "      <th>Attempt</th>\n",
       "    </tr>\n",
       "  </thead>\n",
       "  <tbody>\n",
       "    <tr>\n",
       "      <th>0</th>\n",
       "      <td>0</td>\n",
       "      <td>2019-01-01 00:01:11</td>\n",
       "      <td>Germany</td>\n",
       "      <td>89</td>\n",
       "      <td>0</td>\n",
       "      <td>UK_Card</td>\n",
       "      <td>0</td>\n",
       "      <td>Visa</td>\n",
       "      <td>1</td>\n",
       "    </tr>\n",
       "    <tr>\n",
       "      <th>1</th>\n",
       "      <td>1</td>\n",
       "      <td>2019-01-01 00:01:17</td>\n",
       "      <td>Germany</td>\n",
       "      <td>89</td>\n",
       "      <td>1</td>\n",
       "      <td>UK_Card</td>\n",
       "      <td>0</td>\n",
       "      <td>Visa</td>\n",
       "      <td>2</td>\n",
       "    </tr>\n",
       "    <tr>\n",
       "      <th>2</th>\n",
       "      <td>2</td>\n",
       "      <td>2019-01-01 00:02:49</td>\n",
       "      <td>Germany</td>\n",
       "      <td>238</td>\n",
       "      <td>0</td>\n",
       "      <td>UK_Card</td>\n",
       "      <td>1</td>\n",
       "      <td>Diners</td>\n",
       "      <td>1</td>\n",
       "    </tr>\n",
       "    <tr>\n",
       "      <th>3</th>\n",
       "      <td>3</td>\n",
       "      <td>2019-01-01 00:03:13</td>\n",
       "      <td>Germany</td>\n",
       "      <td>238</td>\n",
       "      <td>1</td>\n",
       "      <td>UK_Card</td>\n",
       "      <td>1</td>\n",
       "      <td>Diners</td>\n",
       "      <td>2</td>\n",
       "    </tr>\n",
       "    <tr>\n",
       "      <th>4</th>\n",
       "      <td>4</td>\n",
       "      <td>2019-01-01 00:04:33</td>\n",
       "      <td>Austria</td>\n",
       "      <td>124</td>\n",
       "      <td>0</td>\n",
       "      <td>Simplecard</td>\n",
       "      <td>0</td>\n",
       "      <td>Diners</td>\n",
       "      <td>1</td>\n",
       "    </tr>\n",
       "    <tr>\n",
       "      <th>...</th>\n",
       "      <td>...</td>\n",
       "      <td>...</td>\n",
       "      <td>...</td>\n",
       "      <td>...</td>\n",
       "      <td>...</td>\n",
       "      <td>...</td>\n",
       "      <td>...</td>\n",
       "      <td>...</td>\n",
       "      <td>...</td>\n",
       "    </tr>\n",
       "    <tr>\n",
       "      <th>50405</th>\n",
       "      <td>50405</td>\n",
       "      <td>2019-02-28 23:45:39</td>\n",
       "      <td>Switzerland</td>\n",
       "      <td>415</td>\n",
       "      <td>0</td>\n",
       "      <td>UK_Card</td>\n",
       "      <td>0</td>\n",
       "      <td>Visa</td>\n",
       "      <td>2</td>\n",
       "    </tr>\n",
       "    <tr>\n",
       "      <th>50406</th>\n",
       "      <td>50406</td>\n",
       "      <td>2019-02-28 23:46:48</td>\n",
       "      <td>Austria</td>\n",
       "      <td>91</td>\n",
       "      <td>0</td>\n",
       "      <td>UK_Card</td>\n",
       "      <td>0</td>\n",
       "      <td>Master</td>\n",
       "      <td>1</td>\n",
       "    </tr>\n",
       "    <tr>\n",
       "      <th>50407</th>\n",
       "      <td>50407</td>\n",
       "      <td>2019-02-28 23:47:04</td>\n",
       "      <td>Austria</td>\n",
       "      <td>91</td>\n",
       "      <td>0</td>\n",
       "      <td>UK_Card</td>\n",
       "      <td>0</td>\n",
       "      <td>Master</td>\n",
       "      <td>2</td>\n",
       "    </tr>\n",
       "    <tr>\n",
       "      <th>50408</th>\n",
       "      <td>50408</td>\n",
       "      <td>2019-02-28 23:47:36</td>\n",
       "      <td>Austria</td>\n",
       "      <td>91</td>\n",
       "      <td>0</td>\n",
       "      <td>UK_Card</td>\n",
       "      <td>0</td>\n",
       "      <td>Master</td>\n",
       "      <td>3</td>\n",
       "    </tr>\n",
       "    <tr>\n",
       "      <th>50409</th>\n",
       "      <td>50409</td>\n",
       "      <td>2019-02-28 23:48:19</td>\n",
       "      <td>Austria</td>\n",
       "      <td>91</td>\n",
       "      <td>1</td>\n",
       "      <td>Moneycard</td>\n",
       "      <td>0</td>\n",
       "      <td>Master</td>\n",
       "      <td>4</td>\n",
       "    </tr>\n",
       "  </tbody>\n",
       "</table>\n",
       "<p>50410 rows × 9 columns</p>\n",
       "</div>"
      ],
      "text/plain": [
       "       Unnamed: 0                tmsp      country  amount  success  \\\n",
       "0               0 2019-01-01 00:01:11      Germany      89        0   \n",
       "1               1 2019-01-01 00:01:17      Germany      89        1   \n",
       "2               2 2019-01-01 00:02:49      Germany     238        0   \n",
       "3               3 2019-01-01 00:03:13      Germany     238        1   \n",
       "4               4 2019-01-01 00:04:33      Austria     124        0   \n",
       "...           ...                 ...          ...     ...      ...   \n",
       "50405       50405 2019-02-28 23:45:39  Switzerland     415        0   \n",
       "50406       50406 2019-02-28 23:46:48      Austria      91        0   \n",
       "50407       50407 2019-02-28 23:47:04      Austria      91        0   \n",
       "50408       50408 2019-02-28 23:47:36      Austria      91        0   \n",
       "50409       50409 2019-02-28 23:48:19      Austria      91        1   \n",
       "\n",
       "              PSP  3D_secured    card  Attempt  \n",
       "0         UK_Card           0    Visa        1  \n",
       "1         UK_Card           0    Visa        2  \n",
       "2         UK_Card           1  Diners        1  \n",
       "3         UK_Card           1  Diners        2  \n",
       "4      Simplecard           0  Diners        1  \n",
       "...           ...         ...     ...      ...  \n",
       "50405     UK_Card           0    Visa        2  \n",
       "50406     UK_Card           0  Master        1  \n",
       "50407     UK_Card           0  Master        2  \n",
       "50408     UK_Card           0  Master        3  \n",
       "50409   Moneycard           0  Master        4  \n",
       "\n",
       "[50410 rows x 9 columns]"
      ]
     },
     "execution_count": 418,
     "metadata": {},
     "output_type": "execute_result"
    }
   ],
   "source": [
    "df"
   ]
  },
  {
   "cell_type": "markdown",
   "id": "be5edde3",
   "metadata": {},
   "source": [
    "Making copy of the dataframe and processing the dataset."
   ]
  },
  {
   "cell_type": "code",
   "execution_count": 419,
   "id": "c6577b44",
   "metadata": {},
   "outputs": [],
   "source": [
    "raw = df.copy()"
   ]
  },
  {
   "cell_type": "code",
   "execution_count": 420,
   "id": "05ecca23",
   "metadata": {},
   "outputs": [],
   "source": [
    "raw = raw.drop(columns=[\"Unnamed: 0\"])"
   ]
  },
  {
   "cell_type": "code",
   "execution_count": 421,
   "id": "d67b2a12",
   "metadata": {},
   "outputs": [],
   "source": [
    "target = raw.success\n",
    "# inputs = raw.drop(columns=[\"success\"])\n",
    "inputs = raw\n",
    "dummies_Country = pd.get_dummies(inputs.country)\n",
    "dummies_PSP = pd.get_dummies(inputs.PSP)\n",
    "dummies_card = pd.get_dummies(inputs.card)\n",
    "inputs['hour'] = inputs.tmsp.apply(lambda x: x.hour)\n",
    "inputs['minute'] = inputs.tmsp.apply(lambda x: x.minute)\n",
    "inputs = inputs.drop(columns=['tmsp'])"
   ]
  },
  {
   "cell_type": "code",
   "execution_count": 422,
   "id": "5219e583",
   "metadata": {},
   "outputs": [],
   "source": [
    "inputs = pd.concat([inputs, dummies_Country, dummies_PSP, dummies_card], axis='columns')"
   ]
  },
  {
   "cell_type": "code",
   "execution_count": 423,
   "id": "89b2452f",
   "metadata": {},
   "outputs": [],
   "source": [
    "inputs = inputs.drop(columns = ['country', 'PSP', 'card'])"
   ]
  },
  {
   "cell_type": "code",
   "execution_count": 424,
   "id": "bdd74aef",
   "metadata": {},
   "outputs": [
    {
     "data": {
      "text/html": [
       "<div>\n",
       "<style scoped>\n",
       "    .dataframe tbody tr th:only-of-type {\n",
       "        vertical-align: middle;\n",
       "    }\n",
       "\n",
       "    .dataframe tbody tr th {\n",
       "        vertical-align: top;\n",
       "    }\n",
       "\n",
       "    .dataframe thead th {\n",
       "        text-align: right;\n",
       "    }\n",
       "</style>\n",
       "<table border=\"1\" class=\"dataframe\">\n",
       "  <thead>\n",
       "    <tr style=\"text-align: right;\">\n",
       "      <th></th>\n",
       "      <th>amount</th>\n",
       "      <th>success</th>\n",
       "      <th>3D_secured</th>\n",
       "      <th>Attempt</th>\n",
       "      <th>hour</th>\n",
       "      <th>minute</th>\n",
       "      <th>Austria</th>\n",
       "      <th>Germany</th>\n",
       "      <th>Switzerland</th>\n",
       "      <th>Goldcard</th>\n",
       "      <th>Moneycard</th>\n",
       "      <th>Simplecard</th>\n",
       "      <th>UK_Card</th>\n",
       "      <th>Diners</th>\n",
       "      <th>Master</th>\n",
       "      <th>Visa</th>\n",
       "    </tr>\n",
       "  </thead>\n",
       "  <tbody>\n",
       "    <tr>\n",
       "      <th>0</th>\n",
       "      <td>89</td>\n",
       "      <td>0</td>\n",
       "      <td>0</td>\n",
       "      <td>1</td>\n",
       "      <td>0</td>\n",
       "      <td>1</td>\n",
       "      <td>0</td>\n",
       "      <td>1</td>\n",
       "      <td>0</td>\n",
       "      <td>0</td>\n",
       "      <td>0</td>\n",
       "      <td>0</td>\n",
       "      <td>1</td>\n",
       "      <td>0</td>\n",
       "      <td>0</td>\n",
       "      <td>1</td>\n",
       "    </tr>\n",
       "    <tr>\n",
       "      <th>1</th>\n",
       "      <td>89</td>\n",
       "      <td>1</td>\n",
       "      <td>0</td>\n",
       "      <td>2</td>\n",
       "      <td>0</td>\n",
       "      <td>1</td>\n",
       "      <td>0</td>\n",
       "      <td>1</td>\n",
       "      <td>0</td>\n",
       "      <td>0</td>\n",
       "      <td>0</td>\n",
       "      <td>0</td>\n",
       "      <td>1</td>\n",
       "      <td>0</td>\n",
       "      <td>0</td>\n",
       "      <td>1</td>\n",
       "    </tr>\n",
       "    <tr>\n",
       "      <th>2</th>\n",
       "      <td>238</td>\n",
       "      <td>0</td>\n",
       "      <td>1</td>\n",
       "      <td>1</td>\n",
       "      <td>0</td>\n",
       "      <td>2</td>\n",
       "      <td>0</td>\n",
       "      <td>1</td>\n",
       "      <td>0</td>\n",
       "      <td>0</td>\n",
       "      <td>0</td>\n",
       "      <td>0</td>\n",
       "      <td>1</td>\n",
       "      <td>1</td>\n",
       "      <td>0</td>\n",
       "      <td>0</td>\n",
       "    </tr>\n",
       "    <tr>\n",
       "      <th>3</th>\n",
       "      <td>238</td>\n",
       "      <td>1</td>\n",
       "      <td>1</td>\n",
       "      <td>2</td>\n",
       "      <td>0</td>\n",
       "      <td>3</td>\n",
       "      <td>0</td>\n",
       "      <td>1</td>\n",
       "      <td>0</td>\n",
       "      <td>0</td>\n",
       "      <td>0</td>\n",
       "      <td>0</td>\n",
       "      <td>1</td>\n",
       "      <td>1</td>\n",
       "      <td>0</td>\n",
       "      <td>0</td>\n",
       "    </tr>\n",
       "    <tr>\n",
       "      <th>4</th>\n",
       "      <td>124</td>\n",
       "      <td>0</td>\n",
       "      <td>0</td>\n",
       "      <td>1</td>\n",
       "      <td>0</td>\n",
       "      <td>4</td>\n",
       "      <td>1</td>\n",
       "      <td>0</td>\n",
       "      <td>0</td>\n",
       "      <td>0</td>\n",
       "      <td>0</td>\n",
       "      <td>1</td>\n",
       "      <td>0</td>\n",
       "      <td>1</td>\n",
       "      <td>0</td>\n",
       "      <td>0</td>\n",
       "    </tr>\n",
       "    <tr>\n",
       "      <th>...</th>\n",
       "      <td>...</td>\n",
       "      <td>...</td>\n",
       "      <td>...</td>\n",
       "      <td>...</td>\n",
       "      <td>...</td>\n",
       "      <td>...</td>\n",
       "      <td>...</td>\n",
       "      <td>...</td>\n",
       "      <td>...</td>\n",
       "      <td>...</td>\n",
       "      <td>...</td>\n",
       "      <td>...</td>\n",
       "      <td>...</td>\n",
       "      <td>...</td>\n",
       "      <td>...</td>\n",
       "      <td>...</td>\n",
       "    </tr>\n",
       "    <tr>\n",
       "      <th>50405</th>\n",
       "      <td>415</td>\n",
       "      <td>0</td>\n",
       "      <td>0</td>\n",
       "      <td>2</td>\n",
       "      <td>23</td>\n",
       "      <td>45</td>\n",
       "      <td>0</td>\n",
       "      <td>0</td>\n",
       "      <td>1</td>\n",
       "      <td>0</td>\n",
       "      <td>0</td>\n",
       "      <td>0</td>\n",
       "      <td>1</td>\n",
       "      <td>0</td>\n",
       "      <td>0</td>\n",
       "      <td>1</td>\n",
       "    </tr>\n",
       "    <tr>\n",
       "      <th>50406</th>\n",
       "      <td>91</td>\n",
       "      <td>0</td>\n",
       "      <td>0</td>\n",
       "      <td>1</td>\n",
       "      <td>23</td>\n",
       "      <td>46</td>\n",
       "      <td>1</td>\n",
       "      <td>0</td>\n",
       "      <td>0</td>\n",
       "      <td>0</td>\n",
       "      <td>0</td>\n",
       "      <td>0</td>\n",
       "      <td>1</td>\n",
       "      <td>0</td>\n",
       "      <td>1</td>\n",
       "      <td>0</td>\n",
       "    </tr>\n",
       "    <tr>\n",
       "      <th>50407</th>\n",
       "      <td>91</td>\n",
       "      <td>0</td>\n",
       "      <td>0</td>\n",
       "      <td>2</td>\n",
       "      <td>23</td>\n",
       "      <td>47</td>\n",
       "      <td>1</td>\n",
       "      <td>0</td>\n",
       "      <td>0</td>\n",
       "      <td>0</td>\n",
       "      <td>0</td>\n",
       "      <td>0</td>\n",
       "      <td>1</td>\n",
       "      <td>0</td>\n",
       "      <td>1</td>\n",
       "      <td>0</td>\n",
       "    </tr>\n",
       "    <tr>\n",
       "      <th>50408</th>\n",
       "      <td>91</td>\n",
       "      <td>0</td>\n",
       "      <td>0</td>\n",
       "      <td>3</td>\n",
       "      <td>23</td>\n",
       "      <td>47</td>\n",
       "      <td>1</td>\n",
       "      <td>0</td>\n",
       "      <td>0</td>\n",
       "      <td>0</td>\n",
       "      <td>0</td>\n",
       "      <td>0</td>\n",
       "      <td>1</td>\n",
       "      <td>0</td>\n",
       "      <td>1</td>\n",
       "      <td>0</td>\n",
       "    </tr>\n",
       "    <tr>\n",
       "      <th>50409</th>\n",
       "      <td>91</td>\n",
       "      <td>1</td>\n",
       "      <td>0</td>\n",
       "      <td>4</td>\n",
       "      <td>23</td>\n",
       "      <td>48</td>\n",
       "      <td>1</td>\n",
       "      <td>0</td>\n",
       "      <td>0</td>\n",
       "      <td>0</td>\n",
       "      <td>1</td>\n",
       "      <td>0</td>\n",
       "      <td>0</td>\n",
       "      <td>0</td>\n",
       "      <td>1</td>\n",
       "      <td>0</td>\n",
       "    </tr>\n",
       "  </tbody>\n",
       "</table>\n",
       "<p>50410 rows × 16 columns</p>\n",
       "</div>"
      ],
      "text/plain": [
       "       amount  success  3D_secured  Attempt  hour  minute  Austria  Germany  \\\n",
       "0          89        0           0        1     0       1        0        1   \n",
       "1          89        1           0        2     0       1        0        1   \n",
       "2         238        0           1        1     0       2        0        1   \n",
       "3         238        1           1        2     0       3        0        1   \n",
       "4         124        0           0        1     0       4        1        0   \n",
       "...       ...      ...         ...      ...   ...     ...      ...      ...   \n",
       "50405     415        0           0        2    23      45        0        0   \n",
       "50406      91        0           0        1    23      46        1        0   \n",
       "50407      91        0           0        2    23      47        1        0   \n",
       "50408      91        0           0        3    23      47        1        0   \n",
       "50409      91        1           0        4    23      48        1        0   \n",
       "\n",
       "       Switzerland  Goldcard  Moneycard  Simplecard  UK_Card  Diners  Master  \\\n",
       "0                0         0          0           0        1       0       0   \n",
       "1                0         0          0           0        1       0       0   \n",
       "2                0         0          0           0        1       1       0   \n",
       "3                0         0          0           0        1       1       0   \n",
       "4                0         0          0           1        0       1       0   \n",
       "...            ...       ...        ...         ...      ...     ...     ...   \n",
       "50405            1         0          0           0        1       0       0   \n",
       "50406            0         0          0           0        1       0       1   \n",
       "50407            0         0          0           0        1       0       1   \n",
       "50408            0         0          0           0        1       0       1   \n",
       "50409            0         0          1           0        0       0       1   \n",
       "\n",
       "       Visa  \n",
       "0         1  \n",
       "1         1  \n",
       "2         0  \n",
       "3         0  \n",
       "4         0  \n",
       "...     ...  \n",
       "50405     1  \n",
       "50406     0  \n",
       "50407     0  \n",
       "50408     0  \n",
       "50409     0  \n",
       "\n",
       "[50410 rows x 16 columns]"
      ]
     },
     "execution_count": 424,
     "metadata": {},
     "output_type": "execute_result"
    }
   ],
   "source": [
    "inputs"
   ]
  },
  {
   "cell_type": "markdown",
   "id": "b64537ad",
   "metadata": {},
   "source": [
    "### Splitting the dataset into test and train"
   ]
  },
  {
   "cell_type": "code",
   "execution_count": 426,
   "id": "c2f484ce",
   "metadata": {},
   "outputs": [],
   "source": [
    "succee = inputs[inputs['success']==1]\n",
    "fai = inputs[inputs['success']==0]\n"
   ]
  },
  {
   "cell_type": "code",
   "execution_count": 427,
   "id": "1960fe9d",
   "metadata": {},
   "outputs": [],
   "source": [
    "succee_inputs = succee.drop(columns=[\"success\"])\n",
    "succee_target = succee.success\n",
    "\n",
    "fai_inputs = fai.drop(columns=[\"success\"])\n",
    "fai_target = fai.success"
   ]
  },
  {
   "cell_type": "code",
   "execution_count": 428,
   "id": "151b4964",
   "metadata": {},
   "outputs": [],
   "source": [
    "from sklearn.model_selection import train_test_split\n",
    "X_train1, X_test1, y_train1, y_test1 = train_test_split(succee_inputs, succee_target, test_size=0.2)\n",
    "X_train2, X_test2, y_train2, y_test2 = train_test_split(fai_inputs, fai_target, test_size=0.2)\n",
    "X_train = X_train1.append(X_train2, ignore_index=True)\n",
    "X_test = X_test1.append(X_test2, ignore_index=True)\n",
    "y_train = y_train1.append(y_train2, ignore_index=True)\n",
    "y_test = y_test1.append(y_test2, ignore_index=True)"
   ]
  },
  {
   "cell_type": "code",
   "execution_count": 429,
   "id": "01677f13",
   "metadata": {},
   "outputs": [
    {
     "data": {
      "text/plain": [
       "40327"
      ]
     },
     "execution_count": 429,
     "metadata": {},
     "output_type": "execute_result"
    }
   ],
   "source": [
    "len(X_train)"
   ]
  },
  {
   "cell_type": "code",
   "execution_count": 431,
   "id": "602e760f",
   "metadata": {},
   "outputs": [
    {
     "data": {
      "text/plain": [
       "10083"
      ]
     },
     "execution_count": 431,
     "metadata": {},
     "output_type": "execute_result"
    }
   ],
   "source": [
    "len(X_test)"
   ]
  },
  {
   "cell_type": "markdown",
   "id": "2484f035",
   "metadata": {},
   "source": [
    "### Building predictive model with Naive Bayes"
   ]
  },
  {
   "cell_type": "code",
   "execution_count": 432,
   "id": "e725d083",
   "metadata": {},
   "outputs": [
    {
     "data": {
      "text/plain": [
       "GaussianNB()"
      ]
     },
     "execution_count": 432,
     "metadata": {},
     "output_type": "execute_result"
    }
   ],
   "source": [
    "from sklearn.naive_bayes import GaussianNB, MultinomialNB\n",
    "model = GaussianNB()\n",
    "model.fit(X_train,y_train)"
   ]
  },
  {
   "cell_type": "markdown",
   "id": "a5e35242",
   "metadata": {},
   "source": [
    "Testing and scoring the Accuracy of the model"
   ]
  },
  {
   "cell_type": "code",
   "execution_count": 436,
   "id": "5ac55119",
   "metadata": {},
   "outputs": [
    {
     "data": {
      "text/plain": [
       "78.65714569076664"
      ]
     },
     "execution_count": 436,
     "metadata": {},
     "output_type": "execute_result"
    }
   ],
   "source": [
    "model.score(X_test,y_test)*100"
   ]
  },
  {
   "cell_type": "code",
   "execution_count": 437,
   "id": "0aa6fb4e",
   "metadata": {},
   "outputs": [],
   "source": [
    "pred = model.predict(X_test)"
   ]
  },
  {
   "cell_type": "code",
   "execution_count": 438,
   "id": "76e600a3",
   "metadata": {},
   "outputs": [
    {
     "name": "stdout",
     "output_type": "stream",
     "text": [
      "dict_keys([0, 1])\n",
      "dict_values([9447, 636])\n"
     ]
    }
   ],
   "source": [
    "from collections import Counter\n",
    "print(Counter(pred).keys() )\n",
    "print(Counter(pred).values() )"
   ]
  },
  {
   "cell_type": "markdown",
   "id": "fae85b31",
   "metadata": {},
   "source": [
    "Preparing the input for GUI"
   ]
  },
  {
   "cell_type": "code",
   "execution_count": 440,
   "id": "dd90983b",
   "metadata": {},
   "outputs": [
    {
     "name": "stdout",
     "output_type": "stream",
     "text": [
      "Goldcard : [1]\n",
      "Goldcard Prob :  [[0.00615021 0.99384979]]\n",
      "Moneycard : [0]\n",
      "Moneycard Prob :  [[0.76866079 0.23133921]]\n",
      "Simplecard : [0]\n",
      "Simplecard Prob :  [[0.89965808 0.10034192]]\n",
      "UK_card : [0]\n",
      "UK_card Prob :  [[0.83402628 0.16597372]]\n"
     ]
    }
   ],
   "source": [
    "amount = 100\n",
    "D_secured = 0\n",
    "Attempt = 1\n",
    "hour = 6\n",
    "minute = 12\n",
    "Austria = 1\n",
    "Germany = 0\n",
    "Switzerland = 0\n",
    "Master = 0\n",
    "Visa = 0\n",
    "Diners = 1\n",
    "\n",
    "\n",
    "print('Goldcard :', model.predict([[amount,D_secured,Attempt,hour,minute,Austria,Germany,Switzerland,1,0,0,0,Master,Visa,Diners]]))\n",
    "print('Goldcard Prob : ',model.predict_proba([[amount,D_secured,Attempt,hour,minute,Austria,Germany,Switzerland,1,0,0,0,Master,Visa,Diners]]))\n",
    "\n",
    "print('Moneycard :',model.predict([[amount,D_secured,Attempt,hour,minute,Austria,Germany,Switzerland,0,1,0,0,Master,Visa,Diners]]))\n",
    "print('Moneycard Prob : ',model.predict_proba([[amount,D_secured,Attempt,hour,minute,Austria,Germany,Switzerland,0,1,0,0,Master,Visa,Diners]]))\n",
    "\n",
    "print('Simplecard :',model.predict([[amount,D_secured,Attempt,hour,minute,Austria,Germany,Switzerland,0,0,1,0,Master,Visa,Diners]]))\n",
    "print('Simplecard Prob : ',model.predict_proba([[amount,D_secured,Attempt,hour,minute,Austria,Germany,Switzerland,0,0,1,0,Master,Visa,Diners]]))\n",
    "\n",
    "print('UK_card :',model.predict([[amount,D_secured,Attempt,hour,minute,Austria,Germany,Switzerland,0,0,0,1,Master,Visa,Diners]]))\n",
    "print('UK_card Prob : ',model.predict_proba([[amount,D_secured,Attempt,hour,minute,Austria,Germany,Switzerland,0,0,0,1,Master,Visa,Diners]]))\n",
    "\n",
    "# deploy"
   ]
  },
  {
   "cell_type": "markdown",
   "id": "24061a94",
   "metadata": {},
   "source": [
    "## Making a recommendation PSP from the model"
   ]
  },
  {
   "cell_type": "code",
   "execution_count": 441,
   "id": "5eabcc2a",
   "metadata": {},
   "outputs": [
    {
     "name": "stdout",
     "output_type": "stream",
     "text": [
      "PSP recommended : Goldcard\n"
     ]
    }
   ],
   "source": [
    "success = pd.DataFrame(columns = [\"Goldcard\", \"Moneycard\", \"Simplecard\",\"UK_card\"])\n",
    "probability = pd.DataFrame(columns = [\"Goldcard\", \"Moneycard\", \"Simplecard\",\"UK_card\"])\n",
    "\n",
    "for i in range(3):\n",
    "    G = model.predict([[amount,D_secured,i+1,hour,minute,Austria,Germany,Switzerland,1,0,0,0,Master,Visa,Diners]])\n",
    "    M = model.predict([[amount,D_secured,i+1,hour,minute,Austria,Germany,Switzerland,0,1,0,0,Master,Visa,Diners]])\n",
    "    S = model.predict([[amount,D_secured,i+1,hour,minute,Austria,Germany,Switzerland,0,0,1,0,Master,Visa,Diners]])\n",
    "    U = model.predict([[amount,D_secured,i+1,hour,minute,Austria,Germany,Switzerland,0,0,0,1,Master,Visa,Diners]])\n",
    "    G_p = model.predict_proba([[amount,D_secured,i+1,hour,minute,Austria,Germany,Switzerland,1,0,0,0,Master,Visa,Diners]])\n",
    "    M_p = model.predict_proba([[amount,D_secured,i+1,hour,minute,Austria,Germany,Switzerland,0,1,0,0,Master,Visa,Diners]])\n",
    "    S_p = model.predict_proba([[amount,D_secured,i+1,hour,minute,Austria,Germany,Switzerland,0,0,1,0,Master,Visa,Diners]])\n",
    "    U_p = model.predict_proba([[amount,D_secured,i+1,hour,minute,Austria,Germany,Switzerland,0,0,0,1,Master,Visa,Diners]])\n",
    "    \n",
    "    if i==0:\n",
    "        success = success.append({'Goldcard': G[0], 'Moneycard': M[0], 'Simplecard': S[0], 'UK_card': U[0]}, ignore_index=True)\n",
    "        probability = probability.append({'Goldcard': G_p[0][1], 'Moneycard': M_p[0][1], 'Simplecard': S_p[0][1], 'UK_card': U_p[0][1]}, ignore_index=True)\n",
    "    else:\n",
    "        if (success['Goldcard'][i-1] == 1) | (success['Goldcard'][i-1] == 'N'):\n",
    "            G = 'N'\n",
    "        if (success['Moneycard'][i-1] == 1) | (success['Moneycard'][i-1] == 'N'):\n",
    "            M = 'N'\n",
    "        if (success['Simplecard'][i-1] == 1) | (success['Simplecard'][i-1] == 'N'):\n",
    "            S = 'N'\n",
    "        if (success['UK_card'][i-1] == 1) | (success['UK_card'][i-1] == 'N'):\n",
    "            U = 'N'\n",
    "            \n",
    "        success = success.append({'Goldcard': G[0], 'Moneycard': M[0], 'Simplecard': S[0], 'UK_card': U[0]}, ignore_index=True)\n",
    "        probability = probability.append({'Goldcard': G_p[0][1], 'Moneycard': M_p[0][1], 'Simplecard': S_p[0][1], 'UK_card': U_p[0][1]}, ignore_index=True)\n",
    "\n",
    "        \n",
    "    \n",
    "    \n",
    "price = success.replace(to_replace ='N' , value =np.nan)\n",
    "price['Goldcard'] = price['Goldcard'].replace(to_replace = 1 , value = 10)\n",
    "price['Goldcard'] = price['Goldcard'].replace(to_replace = 0 , value = 5)\n",
    "\n",
    "price['Moneycard'] = price['Moneycard'].replace(to_replace = 1 , value = 5)\n",
    "price['Moneycard'] = price['Moneycard'].replace(to_replace = 0 , value = 2)\n",
    "\n",
    "price['Simplecard'] = price['Simplecard'].replace(to_replace = 1 , value = 1)\n",
    "price['Simplecard'] = price['Simplecard'].replace(to_replace = 0 , value = 0.5)\n",
    "\n",
    "price['UK_card'] = price['UK_card'].replace(to_replace = 1 , value = 3)\n",
    "price['UK_card'] = price['UK_card'].replace(to_replace = 0 , value = 1)\n",
    "\n",
    "\n",
    "total_cost = price.sum()\n",
    "\n",
    "expense = total_cost.to_frame()\n",
    "expense = expense.reset_index()\n",
    "expense['Success/Not'] = True\n",
    "\n",
    "\n",
    "for index, row in expense.iterrows(): \n",
    "    expense.iat[index,2] = (success[row['index']].isin([1]).any())    \n",
    "    \n",
    "\n",
    "\n",
    "expense = expense.rename(columns={\"index\": \"PSP\", 0: \"Total cost\", \"Success/Not\": \"Success/Not\"}, errors=\"raise\")\n",
    "\n",
    "expense = expense[expense['Success/Not'] == True]\n",
    "\n",
    "expense = expense.sort_values(by=['Total cost'])\n",
    "\n",
    "if expense.shape[0]==0:\n",
    "    print('PSP recommended :','Simplecard')\n",
    "else:\n",
    "    print('PSP recommended :', expense['PSP'][0])\n",
    "\n"
   ]
  },
  {
   "cell_type": "markdown",
   "id": "d9bcde54",
   "metadata": {},
   "source": [
    "Building other predictive models using different methods to see if any other methods got better accuracy"
   ]
  },
  {
   "cell_type": "code",
   "execution_count": 442,
   "id": "939f76b2",
   "metadata": {},
   "outputs": [
    {
     "name": "stdout",
     "output_type": "stream",
     "text": [
      "0.7848091849133335\n",
      "0.7865714569076664\n"
     ]
    }
   ],
   "source": [
    "from sklearn.metrics import accuracy_score\n",
    "y_train_pred = model.predict(X_train)\n",
    "y_test_pred = model.predict(X_test)\n",
    "# Evaluate model performance\n",
    "print(accuracy_score(y_train, y_train_pred))\n",
    "\n",
    "print(accuracy_score(y_test, y_test_pred))\n"
   ]
  },
  {
   "cell_type": "code",
   "execution_count": 443,
   "id": "bf8e07df",
   "metadata": {},
   "outputs": [
    {
     "data": {
      "text/plain": [
       "BaggingClassifier(base_estimator=DecisionTreeClassifier(), max_samples=0.8,\n",
       "                  n_estimators=100, random_state=1)"
      ]
     },
     "execution_count": 443,
     "metadata": {},
     "output_type": "execute_result"
    }
   ],
   "source": [
    "from sklearn.tree import DecisionTreeClassifier\n",
    "from sklearn.ensemble import BaggingClassifier\n",
    "\n",
    "tree = DecisionTreeClassifier()\n",
    "bag = BaggingClassifier(tree, n_estimators=100, max_samples=0.8,random_state=1)\n",
    "\n",
    "bag.fit(X_train,y_train)"
   ]
  },
  {
   "cell_type": "code",
   "execution_count": 444,
   "id": "5d74f117",
   "metadata": {},
   "outputs": [
    {
     "data": {
      "text/plain": [
       "78.4092036100367"
      ]
     },
     "execution_count": 444,
     "metadata": {},
     "output_type": "execute_result"
    }
   ],
   "source": [
    "bag.score(X_test,y_test)*100"
   ]
  },
  {
   "cell_type": "code",
   "execution_count": 445,
   "id": "3ab17950",
   "metadata": {},
   "outputs": [
    {
     "data": {
      "text/plain": [
       "78.19101457899434"
      ]
     },
     "execution_count": 445,
     "metadata": {},
     "output_type": "execute_result"
    }
   ],
   "source": [
    "from sklearn.ensemble import RandomForestClassifier\n",
    "\n",
    "ran = RandomForestClassifier(n_estimators=100, random_state=0)\n",
    "ran.fit(X_train,y_train)\n",
    "ran.score(X_test,y_test)*100"
   ]
  },
  {
   "cell_type": "code",
   "execution_count": 447,
   "id": "888c09c8",
   "metadata": {},
   "outputs": [
    {
     "data": {
      "text/plain": [
       "3.850714168059466"
      ]
     },
     "execution_count": 447,
     "metadata": {},
     "output_type": "execute_result"
    }
   ],
   "source": [
    "from sklearn import linear_model\n",
    "\n",
    "ran = linear_model.LinearRegression()\n",
    "ran.fit(X_train,y_train)\n",
    "ran.score(X_test,y_test)*100"
   ]
  },
  {
   "cell_type": "markdown",
   "id": "b8d33ee6",
   "metadata": {},
   "source": [
    "With this we can see our Naive Bayes model got better scores than the rest"
   ]
  }
 ],
 "metadata": {
  "kernelspec": {
   "display_name": "Python 3",
   "language": "python",
   "name": "python3"
  },
  "language_info": {
   "codemirror_mode": {
    "name": "ipython",
    "version": 3
   },
   "file_extension": ".py",
   "mimetype": "text/x-python",
   "name": "python",
   "nbconvert_exporter": "python",
   "pygments_lexer": "ipython3",
   "version": "3.8.8"
  }
 },
 "nbformat": 4,
 "nbformat_minor": 5
}
